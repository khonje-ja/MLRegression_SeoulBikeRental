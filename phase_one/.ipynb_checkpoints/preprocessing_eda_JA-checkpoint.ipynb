{
 "cells": [
  {
   "cell_type": "markdown",
   "metadata": {},
   "source": [
    "<center><h1>Project title: Seasonal Bike Rentals Prediction in Seoul </h1></center> <br>\n",
    "\n",
    "This project aims to optimize bike rental operations in Seoul by leveraging data-driven insights. </br>\n",
    "By analyzing various factors affecting bike rentals, we can improve resource allocation, enhance user experience, and potentially increase revenue for the bike rental service."
   ]
  },
  {
   "cell_type": "markdown",
   "metadata": {},
   "source": [
    "<h1>Project Objective</h1>\n",
    "\n",
    "Identify and quantify the top 3-5 factors influencing bike rental demand in Seoul, providing actionable insights for operational decision-making. <br>\n",
    "Develop a regression model to predict hourly bike rental demand with at least 85% accuracy <br>\n",
    "Design and deploy an interactive web application using Streamlit, allowing users to test the regression model through an intuitive interface."
   ]
  },
  {
   "cell_type": "markdown",
   "metadata": {},
   "source": [
    "<h2>Phase One</h2>\n",
    "\n",
    "<ul>\n",
    "    <li>Data Acquisition: Gathering relevant datasets for analysis. </li>\n",
    "    <li>Data Exploration: Analyzing data to understand its structure and key characteristics. </li>\n",
    "    <li>Data Cleaning & Preprocessing: Preparing the data for modeling by handling missing values, outliers, etc. </li>\n",
    "</ul>\n",
    "\n"
   ]
  },
  {
   "cell_type": "markdown",
   "metadata": {},
   "source": [
    "<h2>Metadata for Seoul Bike data</h2>\n",
    "\n",
    "<h3> Attribute information</h3> \n",
    "Source: https://archive.ics.uci.edu/dataset/560/seoul+bike+sharing+demand\n",
    "<ul>\n",
    "    <li><b>Date</b>  - Date bike was rented</li>\n",
    "    <li><b>Rented Bike count</b> - Count of bikes rented at each hour</li>\n",
    "    <li><b>Hour</b> - Hour of he day</li>\n",
    "    <li><b>Temperature</b>-Temperature in Celsius</li>\n",
    "    <li><b>Humidity</b> - Humidity %</li>\n",
    "    <li><b>Windspeed</b></b> - In m/s</li>\n",
    "    <li><b>Visibility - Visibility within 10m radius</li>\n",
    "    <li><b>Dew point temperature</b>- Celsius</li>\n",
    "    <li><b>Solar radiation</b> - MJ/m2</li>\n",
    "    <li><b>Rainfall</b> - In mm</li>\n",
    "    <li><b>Snowfall</b> - Snowfall (cm)</li>\n",
    "    <li><b>Seasons</b> - Winter, Spring, Summer, Autumn</li>\n",
    "    <li><b>Holiday</b> - Holiday/No holiday</li>\n",
    "    <li><b>Functional Day</b> - NoFunc(Non Functional Hours), Fun(Functional hours)- Whetehr day is neither a weekend nor holiday (Work_Day)</li>\n",
    "</ul>"
   ]
  },
  {
   "cell_type": "code",
   "execution_count": null,
   "metadata": {},
   "outputs": [],
   "source": [
    "# Loading packages\n",
    "\n",
    "import pandas as pd\n",
    "import numpy as np\n",
    "import matplotlib as plt\n",
    "import seaborn as sns\n",
    "import matplotlib.pyplot as plt\n"
   ]
  },
  {
   "cell_type": "code",
   "execution_count": null,
   "metadata": {},
   "outputs": [],
   "source": [
    "data = pd.read_csv('../dataset/SeoulBikeData.csv', encoding='Windows-1252')"
   ]
  },
  {
   "cell_type": "code",
   "execution_count": null,
   "metadata": {},
   "outputs": [],
   "source": [
    "data.head()"
   ]
  },
  {
   "cell_type": "code",
   "execution_count": null,
   "metadata": {},
   "outputs": [],
   "source": [
    "data.info()"
   ]
  },
  {
   "cell_type": "markdown",
   "metadata": {},
   "source": [
    "<h2>Exploratory Data Analysis (EDA)</h2>"
   ]
  },
  {
   "cell_type": "code",
   "execution_count": null,
   "metadata": {},
   "outputs": [],
   "source": [
    "# Create a copy of data\n",
    "\n",
    "df = data.copy()"
   ]
  },
  {
   "cell_type": "code",
   "execution_count": null,
   "metadata": {},
   "outputs": [],
   "source": [
    "df.shape"
   ]
  },
  {
   "cell_type": "code",
   "execution_count": null,
   "metadata": {},
   "outputs": [],
   "source": [
    "df.describe().T "
   ]
  },
  {
   "cell_type": "code",
   "execution_count": null,
   "metadata": {},
   "outputs": [],
   "source": [
    "# Are there duplicates\n",
    "len(df[df.duplicated()])"
   ]
  },
  {
   "cell_type": "code",
   "execution_count": null,
   "metadata": {},
   "outputs": [],
   "source": [
    "# Checking distribution of bike rentals\n",
    "\n",
    "sns.displot(df['Rented Bike Count'])"
   ]
  },
  {
   "cell_type": "markdown",
   "metadata": {},
   "source": [
    "What does Functioning Day represent? There are no bike rentals for 'No' only 'Yes' - Can this be dropped off as its not adding any value?"
   ]
  },
  {
   "cell_type": "code",
   "execution_count": null,
   "metadata": {},
   "outputs": [],
   "source": [
    "# Creating additional features such as Week day and Month as bike rental may also depend on these spatial features\n",
    "\n",
    "df['Date'] = pd.to_datetime(df['Date'], format=\"%d/%m/%Y\") \n",
    "df['month'] = df['Date'].dt.month_name()\n",
    "df['Weekday'] = df['Date'].dt.day_name()\n",
    "df.columns\n",
    "df.dtypes\n",
    "\n",
    "# Order months in the right order\n",
    "months = ['January', 'February', 'March', 'April', 'May', 'June', 'July', 'August', 'September', 'October', 'November', 'December']\n",
    "#months = ['Jan', 'Feb', 'Mar', 'Apr', 'May', 'Jun', 'Jul', 'Aug', 'Sep', 'Oct', 'Nov', 'Dec']\n",
    "df['month'] = pd.Categorical(df['month'], categories=months, ordered=True)\n",
    "#df.sort_values(by='Date',inplace=True)\n",
    "\n",
    "# Order week days in the right order\n",
    "cats = ['Monday', 'Tuesday', 'Wednesday', 'Thursday', 'Friday', 'Saturday', 'Sunday']\n",
    "df['Weekday'] = pd.Categorical(df['Weekday'], categories=cats, ordered=True)\n",
    "#df.sort_values(by='Date',inplace=True)"
   ]
  },
  {
   "cell_type": "code",
   "execution_count": null,
   "metadata": {},
   "outputs": [],
   "source": [
    "df.head(3)"
   ]
  },
  {
   "cell_type": "code",
   "execution_count": null,
   "metadata": {},
   "outputs": [],
   "source": [
    "# Hitmap of bike rentals by Month and weekday\n",
    "# ============================================================================================\n",
    "df_pivot = df.groupby(['month','Weekday'])['Rented Bike Count'].sum().reset_index()\n",
    "df_pivot\n",
    "\n",
    "month_pivot=df_pivot.pivot_table(values='Rented Bike Count',index='Weekday',columns='month')\n",
    "\n",
    "sns.set_theme(rc={'figure.figsize':(8,4)})\n",
    "\n",
    "sns.heatmap(month_pivot, \n",
    "            cmap='Blues',\n",
    "            linecolor='white',\n",
    "            linewidth=0.5)\n",
    "\n",
    "plt.ylabel(\"Week Day\")\n",
    "plt.xlabel(\"Month\")\n",
    "\n",
    "plt.show()"
   ]
  },
  {
   "cell_type": "markdown",
   "metadata": {},
   "source": [
    "The heatmap shows most bikes are rented during the months of April to October spread across all weekdaya  with Friday and Saturday  recording the highest in June"
   ]
  },
  {
   "cell_type": "code",
   "execution_count": null,
   "metadata": {},
   "outputs": [],
   "source": [
    "# Selecting only numeric columns - drops of Seasons, Holiday Function Day Weekda and Month\n",
    "\n",
    "df_numeric = df.select_dtypes(include=np.number)\n",
    "sns.heatmap(df_numeric.corr(), annot=True)"
   ]
  },
  {
   "cell_type": "markdown",
   "metadata": {},
   "source": [
    "Correlation between Tenperature and Dew point indicate existence of multicolinearity problems - suggest dropping Dew point feature"
   ]
  },
  {
   "cell_type": "code",
   "execution_count": null,
   "metadata": {},
   "outputs": [],
   "source": [
    "# Bike renatls by Month\n",
    "#===================================\n",
    "\n",
    "df.groupby('month')['Rented Bike Count'].sum().plot(kind='bar') \n",
    "#sns.barplot(x=\"month\", y=\"Rented Bike Count\", data=df)\n",
    "plt.title(\"Number of Bike rentals per month\")\n",
    "plt.ylabel(\"Rentals\")\n",
    "plt.xlabel(\"Number of Bike rentals per month\")\n",
    "\n",
    "sns.despine(left=False, bottom=False)\n",
    "plt.show()\n"
   ]
  },
  {
   "cell_type": "code",
   "execution_count": null,
   "metadata": {},
   "outputs": [],
   "source": [
    "# Bike renatls by Time of daya (hr)\n",
    "#===================================\n",
    "df.groupby('Hour')['Rented Bike Count'].sum().plot(kind='bar') \n",
    "plt.title(\"Number of Bike rentals per hour\")\n",
    "plt.ylabel(\"Rentals\")\n",
    "plt.xlabel(\"Time in hours\")\n",
    "\n",
    "sns.despine(left=False, bottom=False)\n",
    "plt.show()"
   ]
  },
  {
   "cell_type": "markdown",
   "metadata": {},
   "source": [
    "The hourly bike rentals has a bimodal distribution - One in the morning and the other in the afternoon/evening "
   ]
  },
  {
   "cell_type": "code",
   "execution_count": null,
   "metadata": {},
   "outputs": [],
   "source": [
    "# Bike renatls by Temperature \n",
    "#===================================\n",
    "\n",
    "df.groupby('Temperature(°C)')['Rented Bike Count'].sum().plot() \n",
    "plt.title(\"Temperature\")\n",
    "plt.ylabel(\"Rentals\")\n",
    "plt.xlabel(\"Temperature(°C)\")\n",
    "\n",
    "sns.despine(left=False, bottom=False)\n",
    "plt.show()"
   ]
  },
  {
   "cell_type": "code",
   "execution_count": null,
   "metadata": {},
   "outputs": [],
   "source": [
    "# sns.jointplot(data=df, x = 'Temperature(°C)', y = 'Rented Bike Count')"
   ]
  },
  {
   "cell_type": "code",
   "execution_count": null,
   "metadata": {},
   "outputs": [],
   "source": [
    "# Bike renatls by Wind speed\n",
    "#===================================\n",
    "\n",
    "df.groupby('Wind speed (m/s)')['Rented Bike Count'].sum().plot() \n",
    "plt.title(\"Wind speed\")\n",
    "plt.ylabel(\"Rentals\")\n",
    "plt.xlabel(\"Wind speed (m/s)\")\n",
    "\n",
    "sns.despine(left=False, bottom=False)\n",
    "plt.show()"
   ]
  },
  {
   "cell_type": "code",
   "execution_count": null,
   "metadata": {},
   "outputs": [],
   "source": [
    "# Bike renatls by Humidity\n",
    "#===================================\n",
    "\n",
    "df.groupby('Humidity(%)')['Rented Bike Count'].sum().plot() \n",
    "plt.title(\"Humidity\")\n",
    "plt.ylabel(\"Rentals\")\n",
    "plt.xlabel(\"Humidity(%)\")\n",
    "\n",
    "sns.despine(left=False, bottom=False)\n",
    "plt.show()"
   ]
  },
  {
   "cell_type": "code",
   "execution_count": null,
   "metadata": {},
   "outputs": [],
   "source": [
    "# What are bike rentals by different Spatial features? \n",
    "\n",
    "df.groupby('Holiday')['Rented Bike Count'].sum().sort_values(ascending = False).reset_index()\n"
   ]
  },
  {
   "cell_type": "code",
   "execution_count": null,
   "metadata": {},
   "outputs": [],
   "source": [
    "Season_analysis = df.groupby('Seasons')['Rented Bike Count'].sum().sort_values(ascending = False).reset_index()"
   ]
  },
  {
   "cell_type": "code",
   "execution_count": null,
   "metadata": {},
   "outputs": [],
   "source": [
    "# Set the theme to white\n",
    "sns.set_theme(style=\"white\")\n",
    "sns.set_theme(rc={'figure.figsize':(8,4)})\n",
    "\n",
    "\n",
    "sns.set_theme(rc={'figure.figsize':(8,4)},palette='Blues_d')\n",
    "sns.set_style(style='white')\n",
    "\n",
    "sns.barplot(x='Seasons', y='Rented Bike Count', data=Season_analysis, \n",
    "             palette='rainbow',\n",
    "            hue =\"Seasons\")\n",
    "\n",
    "plt.title(\"Bike Rentals by Season\")\n",
    "plt.ylabel(\"Number of Rented Bike\")\n",
    "plt.xlabel(\"Seasons\")\n",
    "\n",
    "# Remove Top and Right borders\n",
    "sns.despine(left=False, bottom=False)\n",
    "\n",
    "plt.show()"
   ]
  },
  {
   "cell_type": "markdown",
   "metadata": {},
   "source": [
    "Fewer bikes are rented in Winter compared to other seasons"
   ]
  },
  {
   "cell_type": "code",
   "execution_count": null,
   "metadata": {},
   "outputs": [],
   "source": [
    "# df.groupby('month')['Rented Bike Count'].sum().sort_values(ascending = False).reset_index()"
   ]
  },
  {
   "cell_type": "code",
   "execution_count": null,
   "metadata": {},
   "outputs": [],
   "source": [
    "# df.groupby('Weekday')['Rented Bike Count'].sum().sort_values(ascending = False).reset_index()"
   ]
  },
  {
   "cell_type": "code",
   "execution_count": null,
   "metadata": {},
   "outputs": [],
   "source": [
    "# df.groupby('Hour')['Rented Bike Count'].sum().sort_values(ascending = False).reset_index()"
   ]
  },
  {
   "cell_type": "code",
   "execution_count": null,
   "metadata": {},
   "outputs": [],
   "source": [
    "# (df.groupby([\"Seasons\",\"Humidity(%)\", \"Wind speed (m/s)\"])['Rented Bike Count'].sum()).T"
   ]
  },
  {
   "cell_type": "code",
   "execution_count": null,
   "metadata": {},
   "outputs": [],
   "source": []
  }
 ],
 "metadata": {
  "kernelspec": {
   "display_name": "Python 3 (ipykernel)",
   "language": "python",
   "name": "python3"
  },
  "language_info": {
   "codemirror_mode": {
    "name": "ipython",
    "version": 3
   },
   "file_extension": ".py",
   "mimetype": "text/x-python",
   "name": "python",
   "nbconvert_exporter": "python",
   "pygments_lexer": "ipython3",
   "version": "3.11.9"
  }
 },
 "nbformat": 4,
 "nbformat_minor": 4
}
